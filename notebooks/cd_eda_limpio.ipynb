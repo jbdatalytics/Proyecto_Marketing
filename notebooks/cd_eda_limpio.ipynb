{
 "cells": [
  {
   "cell_type": "code",
   "execution_count": 37,
   "metadata": {},
   "outputs": [],
   "source": [
    "# Importaciones\n",
    "import pandas as pd\n",
    "import numpy as np\n",
    "\n",
    "import sys \n",
    "sys.path.append('..')\n",
    "\n",
    "from src import sp_limpieza as lp"
   ]
  },
  {
   "cell_type": "code",
   "execution_count": 38,
   "metadata": {},
   "outputs": [],
   "source": [
    "# Leer los archivos\n",
    "archivo1 = pd.read_excel(\"../data_raw/customer-details.xlsx\", sheet_name='2012')\n",
    "archivo2 = pd.read_excel(\"../data_raw/customer-details.xlsx\", sheet_name='2013')\n",
    "archivo3 = pd.read_excel(\"../data_raw/customer-details.xlsx\", sheet_name='2014')\n",
    "\n",
    "# Concatenar\n",
    "df_total_cd = pd.concat([archivo1, archivo2, archivo3], ignore_index=True)"
   ]
  },
  {
   "cell_type": "code",
   "execution_count": 39,
   "metadata": {},
   "outputs": [
    {
     "data": {
      "text/html": [
       "<div>\n",
       "<style scoped>\n",
       "    .dataframe tbody tr th:only-of-type {\n",
       "        vertical-align: middle;\n",
       "    }\n",
       "\n",
       "    .dataframe tbody tr th {\n",
       "        vertical-align: top;\n",
       "    }\n",
       "\n",
       "    .dataframe thead th {\n",
       "        text-align: right;\n",
       "    }\n",
       "</style>\n",
       "<table border=\"1\" class=\"dataframe\">\n",
       "  <thead>\n",
       "    <tr style=\"text-align: right;\">\n",
       "      <th></th>\n",
       "      <th>Unnamed: 0</th>\n",
       "      <th>Income</th>\n",
       "      <th>Kidhome</th>\n",
       "      <th>Teenhome</th>\n",
       "      <th>Dt_Customer</th>\n",
       "      <th>NumWebVisitsMonth</th>\n",
       "      <th>ID</th>\n",
       "    </tr>\n",
       "  </thead>\n",
       "  <tbody>\n",
       "    <tr>\n",
       "      <th>43165</th>\n",
       "      <td>14085</td>\n",
       "      <td>156980</td>\n",
       "      <td>1</td>\n",
       "      <td>2</td>\n",
       "      <td>2014-05-17</td>\n",
       "      <td>7</td>\n",
       "      <td>5f432048-d515-4bb5-9c94-62db451f88d4</td>\n",
       "    </tr>\n",
       "    <tr>\n",
       "      <th>43166</th>\n",
       "      <td>14086</td>\n",
       "      <td>139820</td>\n",
       "      <td>0</td>\n",
       "      <td>0</td>\n",
       "      <td>2014-09-29</td>\n",
       "      <td>1</td>\n",
       "      <td>993bbbd6-4dbc-4a40-a408-f91f8462bee6</td>\n",
       "    </tr>\n",
       "    <tr>\n",
       "      <th>43167</th>\n",
       "      <td>14087</td>\n",
       "      <td>78470</td>\n",
       "      <td>2</td>\n",
       "      <td>2</td>\n",
       "      <td>2014-10-28</td>\n",
       "      <td>12</td>\n",
       "      <td>d6271666-319d-42c8-a741-cb22bf2c2093</td>\n",
       "    </tr>\n",
       "    <tr>\n",
       "      <th>43168</th>\n",
       "      <td>14088</td>\n",
       "      <td>144218</td>\n",
       "      <td>0</td>\n",
       "      <td>1</td>\n",
       "      <td>2014-07-01</td>\n",
       "      <td>9</td>\n",
       "      <td>f67fbfa8-6573-414d-a805-b26a2f1b1ceb</td>\n",
       "    </tr>\n",
       "    <tr>\n",
       "      <th>43169</th>\n",
       "      <td>14089</td>\n",
       "      <td>115155</td>\n",
       "      <td>0</td>\n",
       "      <td>2</td>\n",
       "      <td>2014-12-25</td>\n",
       "      <td>7</td>\n",
       "      <td>9727bc06-c11a-461a-a5bb-3d210467cc2a</td>\n",
       "    </tr>\n",
       "  </tbody>\n",
       "</table>\n",
       "</div>"
      ],
      "text/plain": [
       "       Unnamed: 0  Income  Kidhome  Teenhome Dt_Customer  NumWebVisitsMonth  \\\n",
       "43165       14085  156980        1         2  2014-05-17                  7   \n",
       "43166       14086  139820        0         0  2014-09-29                  1   \n",
       "43167       14087   78470        2         2  2014-10-28                 12   \n",
       "43168       14088  144218        0         1  2014-07-01                  9   \n",
       "43169       14089  115155        0         2  2014-12-25                  7   \n",
       "\n",
       "                                         ID  \n",
       "43165  5f432048-d515-4bb5-9c94-62db451f88d4  \n",
       "43166  993bbbd6-4dbc-4a40-a408-f91f8462bee6  \n",
       "43167  d6271666-319d-42c8-a741-cb22bf2c2093  \n",
       "43168  f67fbfa8-6573-414d-a805-b26a2f1b1ceb  \n",
       "43169  9727bc06-c11a-461a-a5bb-3d210467cc2a  "
      ]
     },
     "execution_count": 39,
     "metadata": {},
     "output_type": "execute_result"
    }
   ],
   "source": [
    "df_total_cd.tail()"
   ]
  },
  {
   "cell_type": "code",
   "execution_count": 40,
   "metadata": {},
   "outputs": [
    {
     "name": "stdout",
     "output_type": "stream",
     "text": [
      "El número de filas del conjunto de datos es : 43170\n",
      "El número de columnas del conjunto de datos es : 7\n"
     ]
    }
   ],
   "source": [
    "df_total_cd.shape\n",
    "print (f'El número de filas del conjunto de datos es : {df_total_cd.shape[0]}')\n",
    "print (f'El número de columnas del conjunto de datos es : {df_total_cd.shape[1]}')"
   ]
  },
  {
   "cell_type": "code",
   "execution_count": 41,
   "metadata": {},
   "outputs": [
    {
     "name": "stdout",
     "output_type": "stream",
     "text": [
      "<class 'pandas.core.frame.DataFrame'>\n",
      "RangeIndex: 43170 entries, 0 to 43169\n",
      "Data columns (total 7 columns):\n",
      " #   Column             Non-Null Count  Dtype         \n",
      "---  ------             --------------  -----         \n",
      " 0   Unnamed: 0         43170 non-null  int64         \n",
      " 1   Income             43170 non-null  int64         \n",
      " 2   Kidhome            43170 non-null  int64         \n",
      " 3   Teenhome           43170 non-null  int64         \n",
      " 4   Dt_Customer        43170 non-null  datetime64[ns]\n",
      " 5   NumWebVisitsMonth  43170 non-null  int64         \n",
      " 6   ID                 43170 non-null  object        \n",
      "dtypes: datetime64[ns](1), int64(5), object(1)\n",
      "memory usage: 2.3+ MB\n"
     ]
    }
   ],
   "source": [
    "df_total_cd.info()"
   ]
  },
  {
   "cell_type": "code",
   "execution_count": 52,
   "metadata": {},
   "outputs": [],
   "source": [
    "# Crear un dataframe alternativo para trabajar\n",
    "df_cust = df_total_cd.copy()"
   ]
  },
  {
   "cell_type": "code",
   "execution_count": 53,
   "metadata": {},
   "outputs": [
    {
     "data": {
      "text/plain": [
       "Index(['Unnamed: 0', 'Income', 'Kidhome', 'Teenhome', 'Dt_Customer',\n",
       "       'NumWebVisitsMonth', 'ID'],\n",
       "      dtype='object')"
      ]
     },
     "execution_count": 53,
     "metadata": {},
     "output_type": "execute_result"
    }
   ],
   "source": [
    "df_cust.columns"
   ]
  },
  {
   "cell_type": "code",
   "execution_count": 54,
   "metadata": {},
   "outputs": [
    {
     "data": {
      "text/html": [
       "<div>\n",
       "<style scoped>\n",
       "    .dataframe tbody tr th:only-of-type {\n",
       "        vertical-align: middle;\n",
       "    }\n",
       "\n",
       "    .dataframe tbody tr th {\n",
       "        vertical-align: top;\n",
       "    }\n",
       "\n",
       "    .dataframe thead th {\n",
       "        text-align: right;\n",
       "    }\n",
       "</style>\n",
       "<table border=\"1\" class=\"dataframe\">\n",
       "  <thead>\n",
       "    <tr style=\"text-align: right;\">\n",
       "      <th></th>\n",
       "      <th>Income</th>\n",
       "      <th>Kidhome</th>\n",
       "      <th>Teenhome</th>\n",
       "      <th>Dt_Customer</th>\n",
       "      <th>NumWebVisitsMonth</th>\n",
       "      <th>ID</th>\n",
       "    </tr>\n",
       "  </thead>\n",
       "  <tbody>\n",
       "    <tr>\n",
       "      <th>43167</th>\n",
       "      <td>78470</td>\n",
       "      <td>2</td>\n",
       "      <td>2</td>\n",
       "      <td>2014-10-28</td>\n",
       "      <td>12</td>\n",
       "      <td>d6271666-319d-42c8-a741-cb22bf2c2093</td>\n",
       "    </tr>\n",
       "    <tr>\n",
       "      <th>43168</th>\n",
       "      <td>144218</td>\n",
       "      <td>0</td>\n",
       "      <td>1</td>\n",
       "      <td>2014-07-01</td>\n",
       "      <td>9</td>\n",
       "      <td>f67fbfa8-6573-414d-a805-b26a2f1b1ceb</td>\n",
       "    </tr>\n",
       "    <tr>\n",
       "      <th>43169</th>\n",
       "      <td>115155</td>\n",
       "      <td>0</td>\n",
       "      <td>2</td>\n",
       "      <td>2014-12-25</td>\n",
       "      <td>7</td>\n",
       "      <td>9727bc06-c11a-461a-a5bb-3d210467cc2a</td>\n",
       "    </tr>\n",
       "  </tbody>\n",
       "</table>\n",
       "</div>"
      ],
      "text/plain": [
       "       Income  Kidhome  Teenhome Dt_Customer  NumWebVisitsMonth  \\\n",
       "43167   78470        2         2  2014-10-28                 12   \n",
       "43168  144218        0         1  2014-07-01                  9   \n",
       "43169  115155        0         2  2014-12-25                  7   \n",
       "\n",
       "                                         ID  \n",
       "43167  d6271666-319d-42c8-a741-cb22bf2c2093  \n",
       "43168  f67fbfa8-6573-414d-a805-b26a2f1b1ceb  \n",
       "43169  9727bc06-c11a-461a-a5bb-3d210467cc2a  "
      ]
     },
     "execution_count": 54,
     "metadata": {},
     "output_type": "execute_result"
    }
   ],
   "source": [
    "# Elimino la columna Unnamed al ser el índice generado automáticamente por pandas\n",
    "df_cust.drop(columns=\"Unnamed: 0\", inplace=True)\n",
    "df_cust.tail(3)"
   ]
  },
  {
   "cell_type": "code",
   "execution_count": 68,
   "metadata": {},
   "outputs": [],
   "source": [
    "df_cust = df_cust.rename(columns={'ID': 'Id'})\n",
    "df_cust = df_cust.rename(columns={'NumWebVisitsMonth': 'Num_Web_Visits_Month'})"
   ]
  },
  {
   "cell_type": "code",
   "execution_count": 69,
   "metadata": {},
   "outputs": [
    {
     "data": {
      "text/html": [
       "<div>\n",
       "<style scoped>\n",
       "    .dataframe tbody tr th:only-of-type {\n",
       "        vertical-align: middle;\n",
       "    }\n",
       "\n",
       "    .dataframe tbody tr th {\n",
       "        vertical-align: top;\n",
       "    }\n",
       "\n",
       "    .dataframe thead th {\n",
       "        text-align: right;\n",
       "    }\n",
       "</style>\n",
       "<table border=\"1\" class=\"dataframe\">\n",
       "  <thead>\n",
       "    <tr style=\"text-align: right;\">\n",
       "      <th></th>\n",
       "      <th>Income</th>\n",
       "      <th>Kidhome</th>\n",
       "      <th>Teenhome</th>\n",
       "      <th>Dt_Customer</th>\n",
       "      <th>Num_Web_Visits_Month</th>\n",
       "      <th>Id</th>\n",
       "    </tr>\n",
       "  </thead>\n",
       "  <tbody>\n",
       "    <tr>\n",
       "      <th>34112</th>\n",
       "      <td>39952</td>\n",
       "      <td>1</td>\n",
       "      <td>2</td>\n",
       "      <td>2014-04-21</td>\n",
       "      <td>18</td>\n",
       "      <td>A3abf6fd-fa18-4e18-b450-11d4042d4251</td>\n",
       "    </tr>\n",
       "    <tr>\n",
       "      <th>30937</th>\n",
       "      <td>50502</td>\n",
       "      <td>2</td>\n",
       "      <td>1</td>\n",
       "      <td>2014-06-11</td>\n",
       "      <td>15</td>\n",
       "      <td>6e77d6f4-d2fd-4dfa-a4ec-16216ef3ba73</td>\n",
       "    </tr>\n",
       "    <tr>\n",
       "      <th>23726</th>\n",
       "      <td>12399</td>\n",
       "      <td>0</td>\n",
       "      <td>0</td>\n",
       "      <td>2013-08-03</td>\n",
       "      <td>22</td>\n",
       "      <td>8d2fb571-f2e3-40db-9700-f3e96470cfd5</td>\n",
       "    </tr>\n",
       "    <tr>\n",
       "      <th>26745</th>\n",
       "      <td>103966</td>\n",
       "      <td>0</td>\n",
       "      <td>0</td>\n",
       "      <td>2013-03-15</td>\n",
       "      <td>16</td>\n",
       "      <td>3c9072a2-63b9-4ae9-9da0-b438a5a7918f</td>\n",
       "    </tr>\n",
       "    <tr>\n",
       "      <th>17502</th>\n",
       "      <td>48705</td>\n",
       "      <td>0</td>\n",
       "      <td>1</td>\n",
       "      <td>2012-07-09</td>\n",
       "      <td>19</td>\n",
       "      <td>5ef79e5f-2439-467f-9c66-845b29f873ed</td>\n",
       "    </tr>\n",
       "  </tbody>\n",
       "</table>\n",
       "</div>"
      ],
      "text/plain": [
       "       Income  Kidhome  Teenhome Dt_Customer  Num_Web_Visits_Month  \\\n",
       "34112   39952        1         2  2014-04-21                    18   \n",
       "30937   50502        2         1  2014-06-11                    15   \n",
       "23726   12399        0         0  2013-08-03                    22   \n",
       "26745  103966        0         0  2013-03-15                    16   \n",
       "17502   48705        0         1  2012-07-09                    19   \n",
       "\n",
       "                                         Id  \n",
       "34112  A3abf6fd-fa18-4e18-b450-11d4042d4251  \n",
       "30937  6e77d6f4-d2fd-4dfa-a4ec-16216ef3ba73  \n",
       "23726  8d2fb571-f2e3-40db-9700-f3e96470cfd5  \n",
       "26745  3c9072a2-63b9-4ae9-9da0-b438a5a7918f  \n",
       "17502  5ef79e5f-2439-467f-9c66-845b29f873ed  "
      ]
     },
     "metadata": {},
     "output_type": "display_data"
    },
    {
     "name": "stdout",
     "output_type": "stream",
     "text": [
      "-------------------------------------\n",
      "INFO\n",
      "<class 'pandas.core.frame.DataFrame'>\n",
      "RangeIndex: 43170 entries, 0 to 43169\n",
      "Data columns (total 6 columns):\n",
      " #   Column                Non-Null Count  Dtype         \n",
      "---  ------                --------------  -----         \n",
      " 0   Income                43170 non-null  int64         \n",
      " 1   Kidhome               43170 non-null  int64         \n",
      " 2   Teenhome              43170 non-null  int64         \n",
      " 3   Dt_Customer           43170 non-null  datetime64[ns]\n",
      " 4   Num_Web_Visits_Month  43170 non-null  int64         \n",
      " 5   Id                    43170 non-null  object        \n",
      "dtypes: datetime64[ns](1), int64(4), object(1)\n",
      "memory usage: 2.0+ MB\n"
     ]
    },
    {
     "data": {
      "text/plain": [
       "None"
      ]
     },
     "metadata": {},
     "output_type": "display_data"
    },
    {
     "name": "stdout",
     "output_type": "stream",
     "text": [
      "-------------------------------------\n",
      "NULOS\n"
     ]
    },
    {
     "data": {
      "text/plain": [
       "Income                  0.0\n",
       "Kidhome                 0.0\n",
       "Teenhome                0.0\n",
       "Dt_Customer             0.0\n",
       "Num_Web_Visits_Month    0.0\n",
       "Id                      0.0\n",
       "dtype: float64"
      ]
     },
     "metadata": {},
     "output_type": "display_data"
    },
    {
     "name": "stdout",
     "output_type": "stream",
     "text": [
      "-------------------------------------\n",
      "DUPLICADOS\n"
     ]
    },
    {
     "data": {
      "text/plain": [
       "np.int64(0)"
      ]
     },
     "metadata": {},
     "output_type": "display_data"
    },
    {
     "name": "stdout",
     "output_type": "stream",
     "text": [
      "-------------------------------------\n",
      "VALUE COUNTS\n",
      "Id\n",
      "9727bc06-c11a-461a-a5bb-3d210467cc2a    1\n",
      "089b39d8-e4d0-461b-87d4-814d71e0e079    1\n",
      "8ae75057-3e2d-4374-ab52-37918aa6fd79    1\n",
      "E15ed01e-30e9-4b8c-9ac6-0cc08f14e067    1\n",
      "Aa0fe258-b4a5-48e4-a5dd-69e96e2158ce    1\n",
      "                                       ..\n",
      "D63ede72-0b6d-45b1-8872-385ac6897f65    1\n",
      "5e3483e5-236d-437d-8351-541f9d09b9dd    1\n",
      "87fdc08b-30ae-4dab-803f-561ecdf27ff0    1\n",
      "87b79988-2be5-419d-88f4-56655852c565    1\n",
      "Ea6b7d04-9271-4c0a-a01f-07795d164aba    1\n",
      "Name: count, Length: 43170, dtype: int64\n",
      "------------------------------------\n"
     ]
    }
   ],
   "source": [
    "lp.eda_preliminar(df_cust)"
   ]
  },
  {
   "cell_type": "code",
   "execution_count": 70,
   "metadata": {},
   "outputs": [
    {
     "data": {
      "text/html": [
       "<div>\n",
       "<style scoped>\n",
       "    .dataframe tbody tr th:only-of-type {\n",
       "        vertical-align: middle;\n",
       "    }\n",
       "\n",
       "    .dataframe tbody tr th {\n",
       "        vertical-align: top;\n",
       "    }\n",
       "\n",
       "    .dataframe thead th {\n",
       "        text-align: right;\n",
       "    }\n",
       "</style>\n",
       "<table border=\"1\" class=\"dataframe\">\n",
       "  <thead>\n",
       "    <tr style=\"text-align: right;\">\n",
       "      <th></th>\n",
       "      <th>Income</th>\n",
       "      <th>Kidhome</th>\n",
       "      <th>Teenhome</th>\n",
       "      <th>Dt_Customer</th>\n",
       "      <th>Num_Web_Visits_Month</th>\n",
       "      <th>Id</th>\n",
       "    </tr>\n",
       "  </thead>\n",
       "  <tbody>\n",
       "    <tr>\n",
       "      <th>2792</th>\n",
       "      <td>153862</td>\n",
       "      <td>1</td>\n",
       "      <td>2</td>\n",
       "      <td>2012-08-13</td>\n",
       "      <td>25</td>\n",
       "      <td>Fac1e1ad-c3c4-4562-8878-091d9c976d42</td>\n",
       "    </tr>\n",
       "  </tbody>\n",
       "</table>\n",
       "</div>"
      ],
      "text/plain": [
       "      Income  Kidhome  Teenhome Dt_Customer  Num_Web_Visits_Month  \\\n",
       "2792  153862        1         2  2012-08-13                    25   \n",
       "\n",
       "                                        Id  \n",
       "2792  Fac1e1ad-c3c4-4562-8878-091d9c976d42  "
      ]
     },
     "execution_count": 70,
     "metadata": {},
     "output_type": "execute_result"
    }
   ],
   "source": [
    "df_cust.sample()"
   ]
  },
  {
   "cell_type": "code",
   "execution_count": 71,
   "metadata": {},
   "outputs": [],
   "source": [
    "# Guardo archivo\n",
    "df_cust.to_excel(\"../data_processed/cd_modificaciones.xlsx\", index=False)"
   ]
  }
 ],
 "metadata": {
  "kernelspec": {
   "display_name": "Python 3",
   "language": "python",
   "name": "python3"
  },
  "language_info": {
   "codemirror_mode": {
    "name": "ipython",
    "version": 3
   },
   "file_extension": ".py",
   "mimetype": "text/x-python",
   "name": "python",
   "nbconvert_exporter": "python",
   "pygments_lexer": "ipython3",
   "version": "3.12.6"
  }
 },
 "nbformat": 4,
 "nbformat_minor": 2
}
